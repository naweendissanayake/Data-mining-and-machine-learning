{
 "cells": [
  {
   "cell_type": "code",
   "execution_count": 127,
   "id": "379d0d1d",
   "metadata": {},
   "outputs": [],
   "source": [
    "import numpy as np\n",
    "import pandas as pd\n"
   ]
  },
  {
   "cell_type": "code",
   "execution_count": 128,
   "id": "971b2dc8",
   "metadata": {},
   "outputs": [],
   "source": [
    "x =pd.read_csv('X_train.csv')\n",
    "test_set =pd.read_csv('X_test.csv')\n",
    "y =pd.read_csv('y_train.csv')\n",
    "# y_pred =pd.read_csv('y_test_pred_dectree_md2.csv')"
   ]
  },
  {
   "cell_type": "code",
   "execution_count": 129,
   "id": "354580d7",
   "metadata": {
    "scrolled": true
   },
   "outputs": [
    {
     "data": {
      "text/plain": [
       "0    39178\n",
       "1      722\n",
       "Name: Expected, dtype: int64"
      ]
     },
     "execution_count": 129,
     "metadata": {},
     "output_type": "execute_result"
    }
   ],
   "source": [
    "y['Expected'].value_counts()"
   ]
  },
  {
   "cell_type": "code",
   "execution_count": 130,
   "id": "9186b295",
   "metadata": {},
   "outputs": [],
   "source": [
    "y =y['Expected']"
   ]
  },
  {
   "cell_type": "code",
   "execution_count": null,
   "id": "e60ea063",
   "metadata": {},
   "outputs": [],
   "source": []
  },
  {
   "cell_type": "code",
   "execution_count": 131,
   "id": "cda81793",
   "metadata": {},
   "outputs": [],
   "source": [
    "## dropping all null columns\n",
    "# x =pd.DataFrame(x)/\n",
    "##x_train = x_train.drop(axis=1['ab_000','ac_000','ac_000','ad_000','ee_007','ee_008','ee_009','ef_000','eg_000'])\n",
    "\n",
    "for col in x.columns:\n",
    "    if x[col].isnull().sum()> x.shape[0]*0.6:\n",
    "        x.drop([col],axis=1,inplace=True)\n",
    "        \n",
    "# 6_train = x_train.dropna()\n",
    "x =x.drop(columns='Id')\n",
    "test_set=test_set.drop(columns='Id')\n"
   ]
  },
  {
   "cell_type": "code",
   "execution_count": 132,
   "id": "5acd2366",
   "metadata": {
    "scrolled": true
   },
   "outputs": [
    {
     "name": "stdout",
     "output_type": "stream",
     "text": [
      "ab_000\n",
      "bm_000\n",
      "bn_000\n",
      "bo_000\n",
      "bp_000\n",
      "bq_000\n",
      "br_000\n",
      "cr_000\n"
     ]
    }
   ],
   "source": [
    "for col in test_set.columns:\n",
    "    if col not in x.columns:\n",
    "        print(col)\n",
    "        test_set.drop([col],axis=1,inplace=True)"
   ]
  },
  {
   "cell_type": "code",
   "execution_count": 133,
   "id": "efe52067",
   "metadata": {},
   "outputs": [
    {
     "data": {
      "text/plain": [
       "(17100, 162)"
      ]
     },
     "execution_count": 133,
     "metadata": {},
     "output_type": "execute_result"
    }
   ],
   "source": [
    "test_set.shape"
   ]
  },
  {
   "cell_type": "code",
   "execution_count": 134,
   "id": "cdf827e9",
   "metadata": {},
   "outputs": [],
   "source": [
    "# x_train.shape"
   ]
  },
  {
   "cell_type": "code",
   "execution_count": 135,
   "id": "376f09f2",
   "metadata": {},
   "outputs": [],
   "source": [
    "# x_test.shape"
   ]
  },
  {
   "cell_type": "code",
   "execution_count": 136,
   "id": "da04f321",
   "metadata": {},
   "outputs": [],
   "source": [
    "# y_train.shape"
   ]
  },
  {
   "cell_type": "code",
   "execution_count": 137,
   "id": "fa628ec0",
   "metadata": {},
   "outputs": [],
   "source": [
    "x.fillna(value=x.mean(), inplace=True)\n",
    "test_set.fillna(value=test_set.mean(), inplace=True)\n"
   ]
  },
  {
   "cell_type": "code",
   "execution_count": 138,
   "id": "1f87dbfa",
   "metadata": {},
   "outputs": [
    {
     "data": {
      "text/plain": [
       "aa_000    0\n",
       "ac_000    0\n",
       "ad_000    0\n",
       "ae_000    0\n",
       "af_000    0\n",
       "         ..\n",
       "ee_007    0\n",
       "ee_008    0\n",
       "ee_009    0\n",
       "ef_000    0\n",
       "eg_000    0\n",
       "Length: 162, dtype: int64"
      ]
     },
     "execution_count": 138,
     "metadata": {},
     "output_type": "execute_result"
    }
   ],
   "source": [
    "x.isnull().sum()"
   ]
  },
  {
   "cell_type": "code",
   "execution_count": 139,
   "id": "0f6de0f3",
   "metadata": {
    "scrolled": true
   },
   "outputs": [],
   "source": [
    "# x_train.head(5)\n",
    "#x_train.isnull().sum()\n"
   ]
  },
  {
   "cell_type": "code",
   "execution_count": 140,
   "id": "1a4cbcfe",
   "metadata": {},
   "outputs": [],
   "source": [
    "# x_train.head(5)"
   ]
  },
  {
   "cell_type": "code",
   "execution_count": 141,
   "id": "79977a47",
   "metadata": {},
   "outputs": [],
   "source": [
    "# x_train['af_000'].value_counts()"
   ]
  },
  {
   "cell_type": "code",
   "execution_count": 142,
   "id": "16ffd392",
   "metadata": {
    "scrolled": true
   },
   "outputs": [],
   "source": [
    "# x_test.head(5)"
   ]
  },
  {
   "cell_type": "code",
   "execution_count": 143,
   "id": "faf1d165",
   "metadata": {},
   "outputs": [],
   "source": [
    "# feature scaling\n",
    "# from sklearn.preprocessing import StandardScaler\n",
    "# sc =StandardScaler()\n",
    "# new_x_train =sc.fit_transform(new_x_train)\n",
    "# new_x_test =sc.fit_transform(new_x_test)\n",
    "from sklearn.preprocessing import MinMaxScaler\n",
    "mms =MinMaxScaler()\n",
    "new_x =mms.fit_transform(x)\n",
    "new_test_set =mms.fit_transform(test_set)"
   ]
  },
  {
   "cell_type": "code",
   "execution_count": 144,
   "id": "d6715df4",
   "metadata": {},
   "outputs": [],
   "source": [
    "# new_x.shape, new_test_set.shape"
   ]
  },
  {
   "cell_type": "code",
   "execution_count": 145,
   "id": "58d069e4",
   "metadata": {},
   "outputs": [],
   "source": [
    "# new_x_train.shape, new_x_test.shape"
   ]
  },
  {
   "cell_type": "code",
   "execution_count": 146,
   "id": "0625b923",
   "metadata": {},
   "outputs": [],
   "source": [
    "# reduce 171 columns into 20 columns using pca\n",
    "from sklearn.decomposition import PCA\n",
    "pca =PCA(n_components=20)\n",
    "new_x =pca.fit_transform(new_x)\n",
    "new_test_set =pca.fit_transform(new_test_set)\n",
    "# from sklearn.decomposition import PCA\n",
    "# pca = PCA(0.97)\n",
    "# x_train = pca.fit(X_train).transform(new_x_train)\n",
    "# x_test = pca.transform(new_x_test)"
   ]
  },
  {
   "cell_type": "code",
   "execution_count": 147,
   "id": "61863127",
   "metadata": {},
   "outputs": [
    {
     "data": {
      "text/plain": [
       "(39900, 20)"
      ]
     },
     "execution_count": 147,
     "metadata": {},
     "output_type": "execute_result"
    }
   ],
   "source": [
    "new_x.shape"
   ]
  },
  {
   "cell_type": "code",
   "execution_count": 148,
   "id": "c1d2cd45",
   "metadata": {},
   "outputs": [],
   "source": [
    "# y_train.shape"
   ]
  },
  {
   "cell_type": "code",
   "execution_count": 149,
   "id": "177fcd4e",
   "metadata": {},
   "outputs": [],
   "source": [
    "from imblearn.over_sampling import SMOTE   \n",
    "from imblearn.under_sampling import RandomUnderSampler\n",
    "sm = SMOTE(sampling_strategy = 0.2)\n",
    "\n",
    "over_x, over_y = sm.fit_resample(new_x, y)\n",
    "rus = RandomUnderSampler(sampling_strategy=0.6)\n",
    "under_x, under_y = rus.fit_resample(over_x, over_y)\n"
   ]
  },
  {
   "cell_type": "code",
   "execution_count": 150,
   "id": "7a392320",
   "metadata": {},
   "outputs": [
    {
     "data": {
      "text/plain": [
       "((47013, 20), (47013,))"
      ]
     },
     "execution_count": 150,
     "metadata": {},
     "output_type": "execute_result"
    }
   ],
   "source": [
    "over_x.shape, over_y.shape"
   ]
  },
  {
   "cell_type": "code",
   "execution_count": 151,
   "id": "bb1a6be0",
   "metadata": {},
   "outputs": [
    {
     "data": {
      "text/plain": [
       "((20893, 20), (20893,))"
      ]
     },
     "execution_count": 151,
     "metadata": {},
     "output_type": "execute_result"
    }
   ],
   "source": [
    "under_x.shape, under_y.shape"
   ]
  },
  {
   "cell_type": "code",
   "execution_count": 152,
   "id": "41786cac",
   "metadata": {},
   "outputs": [],
   "source": [
    "# X_rus.shape,X_rus.shape"
   ]
  },
  {
   "cell_type": "code",
   "execution_count": 153,
   "id": "77ac49ae",
   "metadata": {},
   "outputs": [],
   "source": [
    "# y_train.head(5)\n",
    "# y_train_array = y_train['Expected']"
   ]
  },
  {
   "cell_type": "code",
   "execution_count": 154,
   "id": "6b4248ad",
   "metadata": {},
   "outputs": [],
   "source": [
    "from sklearn.model_selection import train_test_split\n",
    "X_train, X_test, y_train, y_test = train_test_split(\n",
    "    over_x, over_y, stratify = over_y, test_size=0.25, random_state=42)"
   ]
  },
  {
   "cell_type": "code",
   "execution_count": 155,
   "id": "fddc9a6a",
   "metadata": {},
   "outputs": [],
   "source": [
    "# X_train.shape, X_test.shape"
   ]
  },
  {
   "cell_type": "code",
   "execution_count": 156,
   "id": "77db60a1",
   "metadata": {},
   "outputs": [],
   "source": [
    "# y_train.shape"
   ]
  },
  {
   "cell_type": "markdown",
   "id": "ff09443c",
   "metadata": {},
   "source": [
    "# cross validation"
   ]
  },
  {
   "cell_type": "code",
   "execution_count": 157,
   "id": "3f82844f",
   "metadata": {},
   "outputs": [],
   "source": [
    "from sklearn.model_selection import cross_val_score"
   ]
  },
  {
   "cell_type": "markdown",
   "id": "66dc069d",
   "metadata": {},
   "source": [
    "# Random forest 1"
   ]
  },
  {
   "cell_type": "code",
   "execution_count": 158,
   "id": "e47acc46",
   "metadata": {
    "scrolled": true
   },
   "outputs": [
    {
     "name": "stdout",
     "output_type": "stream",
     "text": [
      "0.9883443933979922\n",
      "RF                      0            1  accuracy     macro avg  weighted avg\n",
      "precision     0.995384     0.954138  0.988344      0.974761      0.988509\n",
      "recall        0.990607     0.977029  0.988344      0.983818      0.988344\n",
      "f1-score      0.992990     0.965448  0.988344      0.979219      0.988399\n",
      "support    9795.000000  1959.000000  0.988344  11754.000000  11754.000000\n",
      "              precision    recall  f1-score   support\n",
      "\n",
      "           0       1.00      0.99      0.99      9795\n",
      "           1       0.95      0.98      0.97      1959\n",
      "\n",
      "    accuracy                           0.99     11754\n",
      "   macro avg       0.97      0.98      0.98     11754\n",
      "weighted avg       0.99      0.99      0.99     11754\n",
      "\n",
      "confusion_matrix [[9703   92]\n",
      " [  45 1914]]\n"
     ]
    }
   ],
   "source": [
    "from sklearn.ensemble import RandomForestClassifier\n",
    "from sklearn.metrics import classification_report\n",
    "from sklearn.model_selection import cross_val_score\n",
    "from sklearn.metrics import confusion_matrix,f1_score\n",
    "\n",
    "RF =RandomForestClassifier()\n",
    "# RF_CV_results = cross_val_score(RF,over_x,over_y,cv=10)\n",
    "# print('cross-validation score:')\n",
    "# print(np.mean(RF_CV_results))\n",
    "\n",
    "RF.fit(X_train, y_train)\n",
    "y_pred = RF.predict(X_test)\n",
    "score_RF = RF.score(X_test, y_test)\n",
    "print(score_RF)\n",
    "\n",
    "report6 =pd.DataFrame(classification_report(y_test,y_pred,output_dict=True))\n",
    "print('RF', report6)\n",
    "print(classification_report(y_test,y_pred))\n",
    "confusion_matrix =confusion_matrix(y_test,y_pred)\n",
    "print('confusion_matrix', confusion_matrix)"
   ]
  },
  {
   "cell_type": "markdown",
   "id": "74498967",
   "metadata": {},
   "source": [
    "# Decision tree 2"
   ]
  },
  {
   "cell_type": "code",
   "execution_count": 160,
   "id": "5aa7df98",
   "metadata": {},
   "outputs": [
    {
     "name": "stdout",
     "output_type": "stream",
     "text": [
      "0.9747320061255743\n",
      "DT                      0            1  accuracy     macro avg  weighted avg\n",
      "precision     0.988580     0.908555  0.974732      0.948567      0.975243\n",
      "recall        0.981011     0.943338  0.974732      0.962175      0.974732\n",
      "f1-score      0.984781     0.925620  0.974732      0.955200      0.974921\n",
      "support    9795.000000  1959.000000  0.974732  11754.000000  11754.000000\n",
      "confusion_matrix [[9609  186]\n",
      " [ 111 1848]]\n"
     ]
    }
   ],
   "source": [
    "from sklearn.tree import DecisionTreeClassifier\n",
    "from sklearn.metrics import classification_report\n",
    "from sklearn.model_selection import cross_val_score\n",
    "from sklearn.metrics import confusion_matrix,f1_score\n",
    "\n",
    "DT =DecisionTreeClassifier()\n",
    "# DT_CV_results = cross_val_score(DT,new_x_train,y_train_array,cv=10)\n",
    "# print('cross-validation score:')\n",
    "# print(np.mean(DT_CV_results))\n",
    "\n",
    "DT.fit(X_train, y_train)\n",
    "y_pred = DT.predict(X_test)\n",
    "score_RF = DT.score(X_test, y_test)\n",
    "print(score_RF)\n",
    "\n",
    "report6 =pd.DataFrame(classification_report(y_test,y_pred,output_dict=True))\n",
    "print('DT', report6)\n",
    "\n",
    "confusion_matrix =confusion_matrix(y_test,y_pred)\n",
    "print('confusion_matrix', confusion_matrix)\n"
   ]
  },
  {
   "cell_type": "markdown",
   "id": "24076a6d",
   "metadata": {},
   "source": [
    "# XGboost Algorithm 3"
   ]
  },
  {
   "cell_type": "code",
   "execution_count": 162,
   "id": "705e7839",
   "metadata": {},
   "outputs": [
    {
     "name": "stdout",
     "output_type": "stream",
     "text": [
      "0.9899608643865918\n",
      "confusion_matrix [[9710   85]\n",
      " [  33 1926]]\n"
     ]
    }
   ],
   "source": [
    "import xgboost as xgb\n",
    "from sklearn.metrics import confusion_matrix,f1_score\n",
    "\n",
    "\n",
    "xgb = xgb.XGBClassifier(objective='binary:logistic', n_estimators=100, seed=200)\n",
    "xgb.fit(X_train, y_train)\n",
    "y_pred = xgb.predict(X_test)\n",
    "score_without_cv = xgb.score(X_test, y_test)\n",
    "print(score_without_cv)\n",
    "\n",
    "# cv_results = cross_val_score(xgb, new_x_train,y_train_array, cv=10)\n",
    "# print('Score with cross-validation:')\n",
    "# print(np.mean(cv_results))\n",
    "\n",
    "\n",
    "confusion_matrix =confusion_matrix(y_test,y_pred)\n",
    "print('confusion_matrix', confusion_matrix)"
   ]
  },
  {
   "cell_type": "code",
   "execution_count": null,
   "id": "219ce793",
   "metadata": {},
   "outputs": [],
   "source": [
    "print(classification_report(y_test, y_pred))"
   ]
  },
  {
   "cell_type": "markdown",
   "id": "4ef5f524",
   "metadata": {},
   "source": [
    "# Niave bayse 4"
   ]
  },
  {
   "cell_type": "code",
   "execution_count": 163,
   "id": "7d1d2196",
   "metadata": {},
   "outputs": [
    {
     "name": "stdout",
     "output_type": "stream",
     "text": [
      "0.9442742896035392\n",
      "confusion_matrix [[9418  377]\n",
      " [ 278 1681]]\n"
     ]
    }
   ],
   "source": [
    "from sklearn.naive_bayes import GaussianNB\n",
    "NB = GaussianNB()\n",
    "from sklearn.metrics import confusion_matrix,f1_score\n",
    "\n",
    "# NB_cv_results = cross_val_score(NB, new_x_train,y_train_array, cv=10)\n",
    "# print('cross-validation_score:')\n",
    "# print(np.mean(NB_cv_results))\n",
    "\n",
    "# print('Score:')\n",
    "NB.fit(X_train, y_train)\n",
    "y_pred = NB.predict(X_test)\n",
    "score_without_cv = NB.score(X_test, y_test)\n",
    "print(score_without_cv)\n",
    "\n",
    "confusion_matrix =confusion_matrix(y_test,y_pred)\n",
    "print('confusion_matrix', confusion_matrix)"
   ]
  },
  {
   "cell_type": "markdown",
   "id": "ff7de194",
   "metadata": {},
   "source": [
    "# logistic regression 5"
   ]
  },
  {
   "cell_type": "code",
   "execution_count": 164,
   "id": "b6ab17b7",
   "metadata": {},
   "outputs": [
    {
     "name": "stdout",
     "output_type": "stream",
     "text": [
      "0.9609494640122511\n",
      "confusion_matrix [[9418  377]\n",
      " [ 278 1681]]\n"
     ]
    }
   ],
   "source": [
    "from sklearn.linear_model import LogisticRegression\n",
    "from sklearn.metrics import confusion_matrix,f1_score\n",
    "from sklearn.model_selection import cross_val_score\n",
    "LR =LogisticRegression()\n",
    "\n",
    "# LR_cv_results = cross_val_score(LR, new_x_train,y_train_array, cv=10)\n",
    "# print('cross-validation_score:')\n",
    "# print(np.mean(LR_cv_results))\n",
    "\n",
    "# print('Score:')\n",
    "LR.fit(X_train, y_train)\n",
    "y_pred = NB.predict(X_test)\n",
    "score_without_cv = LR.score(X_test, y_test)\n",
    "print(score_without_cv)\n",
    "\n",
    "confusion_matrix =confusion_matrix(y_test,y_pred)\n",
    "print('confusion_matrix', confusion_matrix)\n"
   ]
  },
  {
   "cell_type": "code",
   "execution_count": 165,
   "id": "9d14ec25",
   "metadata": {},
   "outputs": [
    {
     "data": {
      "text/plain": [
       "Predicted\n",
       "0            16509\n",
       "1              591\n",
       "dtype: int64"
      ]
     },
     "execution_count": 165,
     "metadata": {},
     "output_type": "execute_result"
    }
   ],
   "source": [
    "final_res = LR.predict(new_test_set)\n",
    "final_df = pd.DataFrame()\n",
    "final_df['Predicted'] = final_res\n",
    "final_df.index.name = 'Id'\n",
    "# final_df =(final_df > 0.5).astype(np.integer)\n",
    "final_df.to_csv('LR.csv')\n",
    "final_df.value_counts()"
   ]
  },
  {
   "cell_type": "code",
   "execution_count": 166,
   "id": "48153b02",
   "metadata": {},
   "outputs": [
    {
     "data": {
      "text/plain": [
       "Predicted\n",
       "0            15943\n",
       "1             1157\n",
       "dtype: int64"
      ]
     },
     "execution_count": 166,
     "metadata": {},
     "output_type": "execute_result"
    }
   ],
   "source": [
    "final_res = NB.predict(new_test_set)\n",
    "final_df = pd.DataFrame()\n",
    "final_df['Predicted'] = final_res\n",
    "final_df.index.name = 'Id'\n",
    "# final_df =(final_df > 0.5).astype(np.integer)\n",
    "final_df.to_csv('NB.csv')\n",
    "final_df.value_counts()"
   ]
  },
  {
   "cell_type": "code",
   "execution_count": 167,
   "id": "dae8083d",
   "metadata": {},
   "outputs": [
    {
     "data": {
      "text/plain": [
       "Predicted\n",
       "0            16645\n",
       "1              455\n",
       "dtype: int64"
      ]
     },
     "execution_count": 167,
     "metadata": {},
     "output_type": "execute_result"
    }
   ],
   "source": [
    "final_res = xgb.predict(new_test_set)\n",
    "final_df = pd.DataFrame()\n",
    "final_df['Predicted'] = final_res\n",
    "final_df.index.name = 'Id'\n",
    "# final_df =(final_df > 0.5).astype(np.integer)\n",
    "final_df.to_csv('xgb.csv')\n",
    "final_df.value_counts()"
   ]
  },
  {
   "cell_type": "code",
   "execution_count": 168,
   "id": "1f574fae",
   "metadata": {},
   "outputs": [
    {
     "data": {
      "text/plain": [
       "Predicted\n",
       "0            16790\n",
       "1              310\n",
       "dtype: int64"
      ]
     },
     "execution_count": 168,
     "metadata": {},
     "output_type": "execute_result"
    }
   ],
   "source": [
    "final_res = RF.predict(new_test_set)\n",
    "final_df = pd.DataFrame()\n",
    "final_df['Predicted'] = final_res\n",
    "final_df.index.name = 'Id'\n",
    "# final_df =(final_df > 0.5).astype(np.integer)\n",
    "final_df.to_csv('RF.csv')\n",
    "final_df.value_counts()"
   ]
  },
  {
   "cell_type": "code",
   "execution_count": null,
   "id": "c9582131",
   "metadata": {},
   "outputs": [],
   "source": [
    "test_set.shape"
   ]
  },
  {
   "cell_type": "code",
   "execution_count": null,
   "id": "7d5aeb71",
   "metadata": {},
   "outputs": [],
   "source": [
    "# final_res = DT.predict(new_test_set)\n",
    "# final_df = pd.DataFrame()\n",
    "# final_df['Predicted'] = final_res\n",
    "# final_df.index.name = 'Id'\n",
    "# # final_df =(final_df > 0.5).astype(np.integer)\n",
    "# final_df.to_csv('DT.csv')\n",
    "# final_df.value_counts()"
   ]
  },
  {
   "cell_type": "code",
   "execution_count": 170,
   "id": "2400c48f",
   "metadata": {},
   "outputs": [
    {
     "data": {
      "text/plain": [
       "Predicted\n",
       "0            16032\n",
       "1             1068\n",
       "dtype: int64"
      ]
     },
     "execution_count": 170,
     "metadata": {},
     "output_type": "execute_result"
    }
   ],
   "source": [
    "final_res = DT.predict(new_test_set)\n",
    "final_df = pd.DataFrame()\n",
    "final_df['Predicted'] = final_res\n",
    "final_df.value_counts()\n",
    "final_df.to_csv('DT.csv')\n",
    "final_df.value_counts()"
   ]
  },
  {
   "cell_type": "code",
   "execution_count": null,
   "id": "25244304",
   "metadata": {},
   "outputs": [],
   "source": []
  }
 ],
 "metadata": {
  "kernelspec": {
   "display_name": "Python 3 (ipykernel)",
   "language": "python",
   "name": "python3"
  },
  "language_info": {
   "codemirror_mode": {
    "name": "ipython",
    "version": 3
   },
   "file_extension": ".py",
   "mimetype": "text/x-python",
   "name": "python",
   "nbconvert_exporter": "python",
   "pygments_lexer": "ipython3",
   "version": "3.9.13"
  }
 },
 "nbformat": 4,
 "nbformat_minor": 5
}
